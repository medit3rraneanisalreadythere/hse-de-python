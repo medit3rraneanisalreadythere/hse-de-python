{
 "cells": [
  {
   "attachments": {},
   "cell_type": "markdown",
   "id": "be563a43-f844-4117-a72e-6e2d139d5701",
   "metadata": {},
   "source": [
    "Переведите содержимое файла purchase_log.txt в словарь purchases вида:\n",
    "{'1840e0b9d4': 'Продукты', ...}"
   ]
  },
  {
   "cell_type": "code",
   "execution_count": 8,
   "id": "a1629cd5-2a00-4ddf-bc61-f962f4e5d721",
   "metadata": {},
   "outputs": [
    {
     "name": "stdout",
     "output_type": "stream",
     "text": [
      "[('1840e0b9d4', 'Продукты'), ('4e4f90fcfb', 'Электроника')]\n"
     ]
    }
   ],
   "source": [
    "import json\n",
    "\n",
    "purchases = {}\n",
    "\n",
    "with open(file='purchase_log.txt', mode='r', encoding='utf-8') as file:\n",
    "    next(file)\n",
    "    \n",
    "    for line in file:\n",
    "        data = json.loads(line)\n",
    "        purchases[data['user_id']] = data['category']\n",
    "\n",
    "print(list(purchases.items())[:2])"
   ]
  },
  {
   "cell_type": "code",
   "execution_count": null,
   "id": "7ade0fd7-6b74-443f-aa56-62632c6f35b6",
   "metadata": {},
   "outputs": [],
   "source": [
    "Для каждого user_id в файле visit_log.csv определите третий столбец с категорией покупки. Если покупка была, сам файл visit_log.csv изменять не надо.\n",
    "Запишите в файл funnel.csv визиты из файла visit_log.csv, в которых были покупки с указанием категории.\n",
    "Учтите условия для данных:\n",
    "●\tсодержимое purchase_log.txt помещается в оперативную память компьютера;\n",
    "●\tсодержимое visit_log.csv — нет, используйте только построчную обработку этого файла."
   ]
  },
  {
   "cell_type": "code",
   "execution_count": 10,
   "id": "8a292611-8cb2-4646-9029-0c2d32159327",
   "metadata": {},
   "outputs": [],
   "source": [
    "import csv\n",
    "\n",
    "with open(file='visit_log.csv', mode='r', encoding='utf-8') as v_file, \\\n",
    "     open(file='funnel.csv', mode='w', newline='', encoding='utf-8') as f_file:\n",
    "    reader = csv.reader(v_file)\n",
    "    writer = csv.writer(f_file)\n",
    "\n",
    "    header = next(reader)\n",
    "    header.append('category')\n",
    "    writer.writerow(header)\n",
    "\n",
    "    for row in reader:\n",
    "        user_id = row[0]\n",
    "        if user_id in purchases:\n",
    "            row.append(purchases[user_id])\n",
    "            writer.writerow(row)"
   ]
  },
  {
   "cell_type": "code",
   "execution_count": null,
   "id": "e70d6db9-c53c-4002-9cf1-65228ea82777",
   "metadata": {},
   "outputs": [],
   "source": []
  }
 ],
 "metadata": {
  "kernelspec": {
   "display_name": "Python 3 (ipykernel)",
   "language": "python",
   "name": "python3"
  },
  "language_info": {
   "codemirror_mode": {
    "name": "ipython",
    "version": 3
   },
   "file_extension": ".py",
   "mimetype": "text/x-python",
   "name": "python",
   "nbconvert_exporter": "python",
   "pygments_lexer": "ipython3",
   "version": "3.12.2"
  }
 },
 "nbformat": 4,
 "nbformat_minor": 5
}
