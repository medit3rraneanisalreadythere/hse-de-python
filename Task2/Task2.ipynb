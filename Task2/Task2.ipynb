{
 "cells": [
  {
   "attachments": {},
   "cell_type": "markdown",
   "id": "fb7d8263-4190-4b12-be1a-47765858d7d1",
   "metadata": {},
   "source": [
    "Печатные газеты использовали свой формат дат для каждого выпуска. Для каждой газеты из списка напишите формат указанной даты для перевода в объект datetime:\n",
    "The Moscow Times - Wednesday, October 2, 2002\n",
    "The Guardian - Friday, 11.10.13\n",
    "Daily News - Thursday, 18 August 1977"
   ]
  },
  {
   "cell_type": "code",
   "execution_count": 4,
   "id": "a414a7e2-32df-4aba-9895-bb3cc1b9dbf8",
   "metadata": {},
   "outputs": [
    {
     "name": "stdout",
     "output_type": "stream",
     "text": [
      "2002-10-02 00:00:00 2013-10-11 00:00:00 1977-08-18 00:00:00\n"
     ]
    }
   ],
   "source": [
    "from datetime import datetime\n",
    "\n",
    "first_date = datetime.strptime('Wednesday, October 2, 2002', '%A, %B %d, %Y')\n",
    "second_date = datetime.strptime('Friday, 11.10.13', '%A, %d.%m.%y')\n",
    "third_date = datetime.strptime('Thursday, 18 August 1977', '%A, %d %B %Y')\n",
    "\n",
    "print(first_date, second_date, third_date)"
   ]
  },
  {
   "attachments": {},
   "cell_type": "markdown",
   "id": "da45f854-0c3f-4338-bd66-54933dc1915a",
   "metadata": {},
   "source": [
    "Напишите функцию date_range, которая возвращает список дат за период от start_date до end_date. Даты должны вводиться в формате YYYY-MM-DD. В случае неверного формата или при start_date > end_date должен возвращаться пустой список."
   ]
  },
  {
   "cell_type": "code",
   "execution_count": 14,
   "id": "c1a49d82-6a77-49ac-8276-74fce6fa97ff",
   "metadata": {},
   "outputs": [
    {
     "name": "stdout",
     "output_type": "stream",
     "text": [
      "['2022-01-01', '2022-01-02', '2022-01-03']\n",
      "[]\n",
      "[]\n"
     ]
    }
   ],
   "source": [
    "from datetime import timedelta\n",
    "\n",
    "format = '%Y-%m-%d'\n",
    "\n",
    "def date_range(start_date: str, end_date: str) -> list:\n",
    "    try:\n",
    "        start_date = datetime.strptime(start_date, format)\n",
    "        end_date = datetime.strptime(end_date, format)\n",
    "    except ValueError:\n",
    "        return []\n",
    "\n",
    "    if start_date > end_date:\n",
    "        return []\n",
    "\n",
    "    dates = []\n",
    "    i = start_date\n",
    "    while i <= end_date:\n",
    "        dates.append(i.strftime(format))\n",
    "        i += timedelta(days=1)\n",
    "\n",
    "    return dates\n",
    "\n",
    "print(date_range('2022-01-01', '2022-01-03'))\n",
    "print(date_range('2022-01-04', '2022-01-03'))\n",
    "print(date_range('asdfadsf', '2022-01-03'))"
   ]
  },
  {
   "cell_type": "code",
   "execution_count": null,
   "id": "3aa2230d-183b-49fb-9fa3-66d350bd0bc0",
   "metadata": {},
   "outputs": [],
   "source": []
  }
 ],
 "metadata": {
  "kernelspec": {
   "display_name": "Python 3 (ipykernel)",
   "language": "python",
   "name": "python3"
  },
  "language_info": {
   "codemirror_mode": {
    "name": "ipython",
    "version": 3
   },
   "file_extension": ".py",
   "mimetype": "text/x-python",
   "name": "python",
   "nbconvert_exporter": "python",
   "pygments_lexer": "ipython3",
   "version": "3.12.2"
  }
 },
 "nbformat": 4,
 "nbformat_minor": 5
}
